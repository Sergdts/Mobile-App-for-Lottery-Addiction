{
 "cells": [
  {
   "cell_type": "markdown",
   "metadata": {},
   "source": [
    "# Mobile App for Lottery Addiction\n",
    "\n",
    "\n",
    "Many people start playing the lottery for fun, but for some this activity turns into a habit which eventually escalates into addiction. Like other compulsive gamblers, lottery addicts soon begin spending from their savings and loans, they start to accumulate debts, and eventually engage in desperate behaviors like theft.\n",
    "\n",
    "A medical institute that aims to prevent and treat gambling addictions wants to build a dedicated mobile app to help lottery addicts better estimate their chances of winning. The institute has a team of engineers that will build the app, but they need us to create the logical core of the app and calculate probabilities.\n",
    "\n",
    "For the first version of the app, they want us to focus on the 6/49 lottery and build functions that enable users to answer questions like:\n",
    "\n",
    "* What is the probability of winning the big prize with a single ticket?\n",
    "* What is the probability of winning the big prize if we play 40 different tickets (or any other number)?\n",
    "* What is the probability of having at least five (or four, or three, or two) winning numbers on a single ticket?\n",
    "\n",
    "The institute also wants us to consider historical data coming from the national 6/49 lottery game in Canada. The [data set](https://www.kaggle.com/datascienceai/lottery-dataset) has data for 3,665 drawings, dating from 1982 to 2018 (we'll come back to this).\n",
    "\n",
    "The scenario we're throughout this project is fictional — the main purpose is to practice applying the concepts we learned in a setting that simulates a real-world scenario."
   ]
  },
  {
   "cell_type": "markdown",
   "metadata": {},
   "source": [
    "## Core Functions\n",
    "\n",
    "We will write two functions to calculate repeatedly probabilities and combinations:\n",
    "\n",
    " - A function that calculates factorials;\n",
    "     #### `n! = n x (n - 1) x (n - 2) x ... x (2) x (1)`\n",
    "     \n",
    "In the 6/49 lottery, six numbers are drawn from a set of 49 numbers that range from 1 to 49. The drawing is done without replacement, which means once a number is drawn, it's not put back in the set.\n",
    "\n",
    "\n",
    " - A function that calculates combinations;\n",
    "     ####  `nCk = n! / ( k! * (n - k)! )`\n",
    "     \n",
    "To find the number of combinations when we're sampling without replacement and taking only **k** objects from a group of **n** objects.\n",
    "     \n",
    "\n",
    " \n"
   ]
  },
  {
   "cell_type": "code",
   "execution_count": 1,
   "metadata": {},
   "outputs": [],
   "source": [
    "# factorials function:\n",
    "def factorial(n):\n",
    "    result = 1\n",
    "    for i in range(n, 0, -1):  #reverse step -1\n",
    "        result *= i\n",
    "    return result \n",
    "\n",
    "# combinations function:\n",
    "def combinations (n, k): \n",
    "    numerator = factorial(n)\n",
    "    denominator = factorial(k) * factorial(n-k)\n",
    "    return numerator/denominator"
   ]
  },
  {
   "cell_type": "markdown",
   "metadata": {},
   "source": [
    "## One-ticket Probability\n",
    "\n",
    "In the 6/49 lottery, six numbers are drawn from a set of 49 numbers that range from 1 to 49. A player wins the big prize if the six numbers on their tickets match all the six numbers drawn. If a player has a ticket with the numbers {13, 22, 24, 27, 42, 44}, he only wins the big prize if the numbers drawn are {13, 22, 24, 27, 42, 44}. If only one number differs, he doesn't win.\n",
    "\n",
    "For the first version of the app, we want players to be able to calculate the probability of winning the big prize with the various numbers they play on a single ticket (for each ticket a player chooses six numbers out of 49). So, we'll start by building a function that calculates the probability of winning the big prize for any given ticket.\n",
    "\n",
    "For the first version of the app, we want players to be able to calculate the probability of winning the big prize with the various numbers they play on a single ticket (for each ticket a player chooses six numbers out of 49). So, we'll start by building a function that calculates the probability of winning the big prize for any given ticket.\n",
    "\n",
    "We discussed with the engineering team of the medical institute, and they told us we need to be aware of the following details when we write the function:\n",
    "\n",
    "* Inside the app, the user inputs six different numbers from 1 to 49.\n",
    "\n",
    "\n",
    "* Under the hood, the six numbers will come as a Python list, which will serve as the single input to our function.\n",
    "\n",
    "\n",
    "* The engineering team wants the function to print the probability value in a friendly way — in a way that people without any     probability training are able to understand."
   ]
  },
  {
   "cell_type": "code",
   "execution_count": 2,
   "metadata": {},
   "outputs": [],
   "source": [
    "# function that calculates one_ticket probability to win big prize:\n",
    "def one_ticket_prob (num_list):\n",
    "    total_outcomes = combinations(49, 6)\n",
    "    one_ticket_probability = 1 / total_outcomes\n",
    "    return print(\"Based on your numbers {}, chance to win is {:.7%}\".format(num_list, one_ticket_probability))"
   ]
  },
  {
   "cell_type": "code",
   "execution_count": 3,
   "metadata": {},
   "outputs": [
    {
     "name": "stdout",
     "output_type": "stream",
     "text": [
      "Based on your numbers [5, 1, 3, 10, 31, 6], chance to win is 0.0000072%\n"
     ]
    }
   ],
   "source": [
    "# function test:\n",
    "test_numbers = [5,1,3,10,31,6]\n",
    "one_ticket_prob(test_numbers)"
   ]
  },
  {
   "cell_type": "markdown",
   "metadata": {},
   "source": [
    "### Historical Data Check for Canada Lottery \n",
    "\n",
    "Now, we'll focus on exploring the historical data coming from the Canada 6/49 lottery. The data set can be downloaded from [Kaggle](https://www.kaggle.com/datascienceai/lottery-dataset)\n",
    "\n",
    "The data set contains historical data for 3,665 drawings (each row shows data for a single drawing), dating from 1982 to 2018. For each drawing, we can find the six numbers drawn in the following six columns:\n",
    "\n",
    "- `NUMBER DRAWN 1`\n",
    "\n",
    "\n",
    "- `NUMBER DRAWN 2`\n",
    "\n",
    "\n",
    "- `NUMBER DRAWN 3`\n",
    "\n",
    "\n",
    "- `NUMBER DRAWN 4`\n",
    "\n",
    "\n",
    "- `NUMBER DRAWN 5`\n",
    "\n",
    "\n",
    "- `NUMBER DRAWN 6`"
   ]
  },
  {
   "cell_type": "code",
   "execution_count": 4,
   "metadata": {},
   "outputs": [
    {
     "name": "stdout",
     "output_type": "stream",
     "text": [
      "Number of rows and columns: (3665, 11)\n",
      "\n",
      "\n"
     ]
    },
    {
     "data": {
      "text/html": [
       "<div>\n",
       "<style scoped>\n",
       "    .dataframe tbody tr th:only-of-type {\n",
       "        vertical-align: middle;\n",
       "    }\n",
       "\n",
       "    .dataframe tbody tr th {\n",
       "        vertical-align: top;\n",
       "    }\n",
       "\n",
       "    .dataframe thead th {\n",
       "        text-align: right;\n",
       "    }\n",
       "</style>\n",
       "<table border=\"1\" class=\"dataframe\">\n",
       "  <thead>\n",
       "    <tr style=\"text-align: right;\">\n",
       "      <th></th>\n",
       "      <th>PRODUCT</th>\n",
       "      <th>DRAW NUMBER</th>\n",
       "      <th>SEQUENCE NUMBER</th>\n",
       "      <th>DRAW DATE</th>\n",
       "      <th>NUMBER DRAWN 1</th>\n",
       "      <th>NUMBER DRAWN 2</th>\n",
       "      <th>NUMBER DRAWN 3</th>\n",
       "      <th>NUMBER DRAWN 4</th>\n",
       "      <th>NUMBER DRAWN 5</th>\n",
       "      <th>NUMBER DRAWN 6</th>\n",
       "      <th>BONUS NUMBER</th>\n",
       "    </tr>\n",
       "  </thead>\n",
       "  <tbody>\n",
       "    <tr>\n",
       "      <th>1508</th>\n",
       "      <td>649</td>\n",
       "      <td>1509</td>\n",
       "      <td>0</td>\n",
       "      <td>7/8/1998</td>\n",
       "      <td>10</td>\n",
       "      <td>26</td>\n",
       "      <td>28</td>\n",
       "      <td>35</td>\n",
       "      <td>38</td>\n",
       "      <td>39</td>\n",
       "      <td>3</td>\n",
       "    </tr>\n",
       "    <tr>\n",
       "      <th>2912</th>\n",
       "      <td>649</td>\n",
       "      <td>2904</td>\n",
       "      <td>0</td>\n",
       "      <td>11/19/2011</td>\n",
       "      <td>3</td>\n",
       "      <td>4</td>\n",
       "      <td>14</td>\n",
       "      <td>18</td>\n",
       "      <td>28</td>\n",
       "      <td>31</td>\n",
       "      <td>47</td>\n",
       "    </tr>\n",
       "    <tr>\n",
       "      <th>3593</th>\n",
       "      <td>649</td>\n",
       "      <td>3520</td>\n",
       "      <td>0</td>\n",
       "      <td>10/14/2017</td>\n",
       "      <td>16</td>\n",
       "      <td>22</td>\n",
       "      <td>28</td>\n",
       "      <td>29</td>\n",
       "      <td>32</td>\n",
       "      <td>34</td>\n",
       "      <td>43</td>\n",
       "    </tr>\n",
       "    <tr>\n",
       "      <th>2674</th>\n",
       "      <td>649</td>\n",
       "      <td>2675</td>\n",
       "      <td>0</td>\n",
       "      <td>9/9/2009</td>\n",
       "      <td>3</td>\n",
       "      <td>6</td>\n",
       "      <td>17</td>\n",
       "      <td>27</td>\n",
       "      <td>28</td>\n",
       "      <td>44</td>\n",
       "      <td>43</td>\n",
       "    </tr>\n",
       "    <tr>\n",
       "      <th>2870</th>\n",
       "      <td>649</td>\n",
       "      <td>2871</td>\n",
       "      <td>0</td>\n",
       "      <td>7/27/2011</td>\n",
       "      <td>2</td>\n",
       "      <td>3</td>\n",
       "      <td>15</td>\n",
       "      <td>23</td>\n",
       "      <td>41</td>\n",
       "      <td>46</td>\n",
       "      <td>10</td>\n",
       "    </tr>\n",
       "    <tr>\n",
       "      <th>520</th>\n",
       "      <td>649</td>\n",
       "      <td>521</td>\n",
       "      <td>0</td>\n",
       "      <td>1/18/1989</td>\n",
       "      <td>6</td>\n",
       "      <td>9</td>\n",
       "      <td>14</td>\n",
       "      <td>16</td>\n",
       "      <td>19</td>\n",
       "      <td>28</td>\n",
       "      <td>26</td>\n",
       "    </tr>\n",
       "    <tr>\n",
       "      <th>3068</th>\n",
       "      <td>649</td>\n",
       "      <td>3003</td>\n",
       "      <td>0</td>\n",
       "      <td>10/31/2012</td>\n",
       "      <td>4</td>\n",
       "      <td>8</td>\n",
       "      <td>17</td>\n",
       "      <td>23</td>\n",
       "      <td>34</td>\n",
       "      <td>47</td>\n",
       "      <td>30</td>\n",
       "    </tr>\n",
       "    <tr>\n",
       "      <th>2175</th>\n",
       "      <td>649</td>\n",
       "      <td>2176</td>\n",
       "      <td>0</td>\n",
       "      <td>11/27/2004</td>\n",
       "      <td>12</td>\n",
       "      <td>15</td>\n",
       "      <td>30</td>\n",
       "      <td>38</td>\n",
       "      <td>47</td>\n",
       "      <td>48</td>\n",
       "      <td>27</td>\n",
       "    </tr>\n",
       "    <tr>\n",
       "      <th>562</th>\n",
       "      <td>649</td>\n",
       "      <td>563</td>\n",
       "      <td>0</td>\n",
       "      <td>6/14/1989</td>\n",
       "      <td>6</td>\n",
       "      <td>13</td>\n",
       "      <td>24</td>\n",
       "      <td>30</td>\n",
       "      <td>32</td>\n",
       "      <td>33</td>\n",
       "      <td>35</td>\n",
       "    </tr>\n",
       "    <tr>\n",
       "      <th>1708</th>\n",
       "      <td>649</td>\n",
       "      <td>1709</td>\n",
       "      <td>0</td>\n",
       "      <td>6/7/2000</td>\n",
       "      <td>7</td>\n",
       "      <td>10</td>\n",
       "      <td>27</td>\n",
       "      <td>42</td>\n",
       "      <td>43</td>\n",
       "      <td>47</td>\n",
       "      <td>44</td>\n",
       "    </tr>\n",
       "  </tbody>\n",
       "</table>\n",
       "</div>"
      ],
      "text/plain": [
       "      PRODUCT  DRAW NUMBER  SEQUENCE NUMBER   DRAW DATE  NUMBER DRAWN 1  \\\n",
       "1508      649         1509                0    7/8/1998              10   \n",
       "2912      649         2904                0  11/19/2011               3   \n",
       "3593      649         3520                0  10/14/2017              16   \n",
       "2674      649         2675                0    9/9/2009               3   \n",
       "2870      649         2871                0   7/27/2011               2   \n",
       "520       649          521                0   1/18/1989               6   \n",
       "3068      649         3003                0  10/31/2012               4   \n",
       "2175      649         2176                0  11/27/2004              12   \n",
       "562       649          563                0   6/14/1989               6   \n",
       "1708      649         1709                0    6/7/2000               7   \n",
       "\n",
       "      NUMBER DRAWN 2  NUMBER DRAWN 3  NUMBER DRAWN 4  NUMBER DRAWN 5  \\\n",
       "1508              26              28              35              38   \n",
       "2912               4              14              18              28   \n",
       "3593              22              28              29              32   \n",
       "2674               6              17              27              28   \n",
       "2870               3              15              23              41   \n",
       "520                9              14              16              19   \n",
       "3068               8              17              23              34   \n",
       "2175              15              30              38              47   \n",
       "562               13              24              30              32   \n",
       "1708              10              27              42              43   \n",
       "\n",
       "      NUMBER DRAWN 6  BONUS NUMBER  \n",
       "1508              39             3  \n",
       "2912              31            47  \n",
       "3593              34            43  \n",
       "2674              44            43  \n",
       "2870              46            10  \n",
       "520               28            26  \n",
       "3068              47            30  \n",
       "2175              48            27  \n",
       "562               33            35  \n",
       "1708              47            44  "
      ]
     },
     "execution_count": 4,
     "metadata": {},
     "output_type": "execute_result"
    }
   ],
   "source": [
    "# general data set information:\n",
    "import pandas as pd\n",
    "lottery = pd.read_csv(\"649.csv\")\n",
    "print(\"Number of rows and columns:\", lottery.shape)\n",
    "print(\"\\n\")\n",
    "lottery.sample(10)"
   ]
  },
  {
   "cell_type": "markdown",
   "metadata": {},
   "source": [
    "## Function for Historical Data Check\n",
    "\n",
    "we're going to write a function that will enable users to compare their ticket against the historical lottery data in Canada and determine whether they would have ever won by now."
   ]
  },
  {
   "cell_type": "code",
   "execution_count": 5,
   "metadata": {},
   "outputs": [],
   "source": [
    "# function to extract only numbers and make a set:\n",
    "def extract_numbers(row):\n",
    "    row = row[4:10]\n",
    "    row = set(row.values)\n",
    "    return row\n",
    "\n",
    "# extracting all winning series of numbers:\n",
    "winning_numbers = lottery.apply(extract_numbers, axis = 1)\n",
    "\n",
    "# function to check historical occurence:\n",
    "def check_historical_occurence(user_list, winning_numbers):\n",
    "    user_numbers = set(user_list)\n",
    "    comparing_result = user_numbers == winning_numbers  # compare results and returns True or False\n",
    "    wins = 0\n",
    "    for v in comparing_result:\n",
    "        if v == True:\n",
    "            wins += 1\n",
    "        else:\n",
    "            False\n",
    "    return print (\"The inputted combination occurred in the past {} times.\".format(wins))"
   ]
  },
  {
   "cell_type": "markdown",
   "metadata": {},
   "source": [
    "We made a function to compare the user's possible numbers combination with the results in the past.\n",
    "Now let's make some tests:"
   ]
  },
  {
   "cell_type": "code",
   "execution_count": 6,
   "metadata": {},
   "outputs": [
    {
     "name": "stdout",
     "output_type": "stream",
     "text": [
      "The inputted combination occurred in the past 0 times.\n"
     ]
    }
   ],
   "source": [
    "# test 1 , any combination: \n",
    "user_1_numbers = [49,40,30,20,10,9]\n",
    "user_1_check = check_historical_occurence(user_1_numbers, winning_numbers)"
   ]
  },
  {
   "cell_type": "code",
   "execution_count": 7,
   "metadata": {},
   "outputs": [
    {
     "name": "stdout",
     "output_type": "stream",
     "text": [
      "The inputted combination occurred in the past 1 times.\n"
     ]
    }
   ],
   "source": [
    "# test 2, winnig combination in the past (6/14/2014):\n",
    "user_2_numbers = [7,11,12,13,35,41]\n",
    "user_2_check = check_historical_occurence(user_2_numbers, winning_numbers)"
   ]
  },
  {
   "cell_type": "markdown",
   "metadata": {},
   "source": [
    "The results of our tests showed if a user input a number combination it will show him or her how many times the combination occured in the past."
   ]
  },
  {
   "cell_type": "markdown",
   "metadata": {},
   "source": [
    "## Multi-ticket Probability\n",
    "\n",
    "Before we made some calculations for a one-ticket probability to win.\n",
    "\n",
    "And now we're going to write a function that will allow the users to calculate the chances of winning for any number of different tickets."
   ]
  },
  {
   "cell_type": "code",
   "execution_count": 8,
   "metadata": {},
   "outputs": [
    {
     "name": "stdout",
     "output_type": "stream",
     "text": [
      "If you buy 1 tickets, your chance to win 0.000007%\n",
      "None\n",
      "If you buy 10 tickets, your chance to win 0.000072%\n",
      "None\n",
      "If you buy 100 tickets, your chance to win 0.000715%\n",
      "None\n",
      "If you buy 10000 tickets, your chance to win 0.071511%\n",
      "None\n",
      "If you buy 1000000 tickets, your chance to win 7.151124%\n",
      "None\n",
      "If you buy 6991908 tickets, your chance to win 50.000000%\n",
      "None\n",
      "If you buy 13983816 tickets, your chance to win 100.000000%\n",
      "None\n"
     ]
    }
   ],
   "source": [
    "# function counts the winning probability depending on the number of different tickets played:\n",
    "def multi_ticket_probability(num_tickets):\n",
    "    total_outcomes = combinations(49,6)\n",
    "    multi_ticket_prob = num_tickets/total_outcomes\n",
    "    return print(\"If you buy {} tickets, your chance to win {:.6%}\".format(num_tickets, multi_ticket_prob))\n",
    "\n",
    "# testing of the function:\n",
    "testing = [1, 10, 100, 10000, 1000000, 6991908, 13983816]\n",
    "for i in testing:\n",
    "    print (multi_ticket_probability(i))"
   ]
  },
  {
   "cell_type": "markdown",
   "metadata": {},
   "source": [
    "Our results show, that to get a 50% chance to win is a large amount of tickets should be bought, about 700K tickets."
   ]
  },
  {
   "cell_type": "markdown",
   "metadata": {},
   "source": [
    "## Less Winning Numbers - Function\n",
    "\n",
    "So far, we wrote three main functions:\n",
    "\n",
    "- `one_ticket_probability()` — calculates the probability of winning the big prize with a single ticket\n",
    "\n",
    "\n",
    "- `check_historical_occurrence()` — checks whether a certain combination has occurred in the Canada lottery data set\n",
    "\n",
    "\n",
    "- `multi_ticket_probability()` — calculates the probability for any number of tickets between 1 and 13,983,816\n",
    "\n",
    "\n",
    "Next, we're going to write one more function to allow the users to calculate probabilities for two, three, four, or five winning numbers."
   ]
  },
  {
   "cell_type": "code",
   "execution_count": 9,
   "metadata": {},
   "outputs": [
    {
     "name": "stdout",
     "output_type": "stream",
     "text": [
      "With 5 winning numbers, your chance to win is 0.0018%\n"
     ]
    }
   ],
   "source": [
    "# function that prints chances with 2-5 winning numbers:\n",
    "def probability_less_6(int_2_5):\n",
    "    possible_outcomes = combinations(6, int_2_5)\n",
    "    dif_possible_outcomes = combinations(43 ,6 - int_2_5)\n",
    "    total_possible_outcomes = possible_outcomes * dif_possible_outcomes\n",
    "    total_outcomes = combinations(49,6)\n",
    "    probability = total_possible_outcomes/total_outcomes\n",
    "    return print(\"With {} winning numbers, your chance to win is {:.4%}\".format(int_2_5, probability))\n",
    "\n",
    "# testing:\n",
    "probability_less_6(5)"
   ]
  },
  {
   "cell_type": "markdown",
   "metadata": {},
   "source": [
    "## Conclusion\n",
    "\n",
    "We coded four main functions for the first version of the app:\n",
    "\n",
    "- `one_ticket_probability()` — calculates the probability of winning the big prize with a single ticket\n",
    "\n",
    "\n",
    "- `check_historical_occurrence()`  — checks whether a certain combination has occurred in the Canada lottery data set\n",
    "\n",
    "\n",
    "- `multi_ticket_probability()` — calculates the probability for any number of of tickets between 1 and 13,983,816\n",
    "\n",
    "\n",
    "- `probability_less_6()` — calculates the probability of having two, three, four or five winning numbers exactly"
   ]
  },
  {
   "cell_type": "code",
   "execution_count": null,
   "metadata": {},
   "outputs": [],
   "source": []
  }
 ],
 "metadata": {
  "kernelspec": {
   "display_name": "Python 3",
   "language": "python",
   "name": "python3"
  },
  "language_info": {
   "codemirror_mode": {
    "name": "ipython",
    "version": 3
   },
   "file_extension": ".py",
   "mimetype": "text/x-python",
   "name": "python",
   "nbconvert_exporter": "python",
   "pygments_lexer": "ipython3",
   "version": "3.8.5"
  }
 },
 "nbformat": 4,
 "nbformat_minor": 4
}
